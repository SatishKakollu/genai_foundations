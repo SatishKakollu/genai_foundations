{
 "cells": [
  {
   "cell_type": "markdown",
   "id": "5336a50a-23ca-413e-92a7-7c4e5ee87eca",
   "metadata": {},
   "source": [
    "# Instructions"
   ]
  },
  {
   "cell_type": "markdown",
   "id": "f0de3c0d-5913-4166-9ebd-0fc09399383c",
   "metadata": {},
   "source": [
    "## Question 1:\n",
    "\n",
    "Generate a code snippet for a payment processing microservice in Python that integrates with a payment gateway API. Be sure to include key considerations for security (e.g., token-based authentication, encryption), error handling, and logging. Provide the code snippet."
   ]
  },
  {
   "cell_type": "code",
   "execution_count": null,
   "id": "d2290c71-0bdc-4edb-a418-448027ed77b1",
   "metadata": {},
   "outputs": [],
   "source": []
  },
  {
   "cell_type": "markdown",
   "id": "3bee20d3-201b-43d2-ba4b-6ad9995d446f",
   "metadata": {},
   "source": [
    "## Question 2:\n",
    "\n",
    "Generate synthetic invoice data for testing an 'is_overdue' function. Produce the data directly (do not output Python code) as a JSON array containing exactly 5 invoice objects. Each invoice object must include the following keys:\n",
    "\n",
    "- invoice_id: a unique identifier generated as a UUID,\n",
    "- customer_name: randomly created,\n",
    "- invoice_date: a date string in 'YYYY-MM-DD' format representing a random date within the past 90 days,\n",
    "- due_date: a date string calculated by adding a random offset (between -30 and 60 days) to the invoice_date,\n",
    "- amount: a random float between 100 and 1000 rounded to two decimal places.\n",
    "\n",
    "The final output should be a JSON-formatted dataset."
   ]
  },
  {
   "cell_type": "code",
   "execution_count": null,
   "id": "8e2ff158-eae4-406c-88e0-0d03007d4d43",
   "metadata": {},
   "outputs": [],
   "source": []
  },
  {
   "cell_type": "markdown",
   "id": "b76d2f3d-38d5-489c-9726-95c1f277f29e",
   "metadata": {},
   "source": [
    "## Question 3:\n",
    "\n",
    "You are working on a failing function that calculates accrued interest.  Here is the function:\n",
    "\n",
    "```python\n",
    "def calculate_accrued_interest(principal, annual_rate, days):\n",
    "    # Accrued interest formula: principal * rate * time\n",
    "    interest = principal * annual_rate * days / 365\n",
    "    return round(interest, 2)\n",
    "\n",
    "# Test case: Should return ~4.11, but returns wrong value\n",
    "print(calculate_accrued_interest(1000, 0.05, 30))\n",
    "```\n",
    "\n",
    "Create a prompt using chain-of-thought prompting that walks through identifying the bug, explaining why it happens, and suggesting a corrected version of the code. The model must reason step-by-step before generating the new code."
   ]
  },
  {
   "cell_type": "code",
   "execution_count": null,
   "id": "9e2afdac-6a11-4ef3-88f6-c6f7eb184e98",
   "metadata": {},
   "outputs": [],
   "source": []
  },
  {
   "cell_type": "markdown",
   "id": "1d7f3949-d31a-47b0-8eb7-97ed1b9ac294",
   "metadata": {},
   "source": [
    "## Question 4:\n",
    "\n",
    "You have the following function:\n",
    "\n",
    "```python\n",
    "import os\n",
    "\n",
    "def read_file_contents(file_path):\n",
    "    try:\n",
    "        with open(file_path, 'r') as f:\n",
    "            return f.read()\n",
    "    except Exception as e:\n",
    "        print(\"Error occurred:\", e)\n",
    "\n",
    "# Simulate error by passing a directory path instead of file\n",
    "print(read_file_contents(\"/tmp/\"))\n",
    "```\n",
    "\n",
    "When you run it you get the following exception:\n",
    "```\n",
    "Error occurred: [Errno 21] Is a directory: '/tmp/'\n",
    "```\n",
    "\n",
    "Generate a prompt that takes the exception and returns:\n",
    "\n",
    "- A layperson-friendly description of what went wrong\n",
    "- Suggested fix for the code\n",
    "\n",
    "Be sure you are not just repeating the traceback."
   ]
  },
  {
   "cell_type": "code",
   "execution_count": null,
   "id": "50f56a79-2046-468e-822a-ebf06d3a4892",
   "metadata": {},
   "outputs": [],
   "source": []
  },
  {
   "cell_type": "markdown",
   "id": "20ef3b3a-fb62-4f8e-8f6c-1048342a37df",
   "metadata": {},
   "source": [
    "## Question 5:\n",
    "\n",
    "Create a YAML linter to generate a YAML config with three Python linter rules for a codebase.\n",
    "\n",
    "Each rule must include:\n",
    "- rule_name: short, descriptive string\n",
    "- severity: \"warning\" or \"error\"\n",
    "- description: brief explanation\n",
    "\n",
    "The rules you must generate are:\n",
    "1. no-hardcoded-credentials — flag hardcoded secrets like API keys or DB passwords\n",
    "2. validate-currency-format — ensure currency values are consistently formatted\n",
    "3. use-typed-annotations — encourage use of Python type hints for clarity\n",
    "\n",
    "Use a custom output parser that:\n",
    "- Strips markdown/code fences\n",
    "- Parses the YAML with yaml.safe_load()\n",
    "- Validates that rules is a list of 3 dicts, each with the required keys\n",
    "\n",
    "Your final output must be valid YAML only — no markdown, no extra text.\n",
    "\n",
    "**Example:**\n",
    "```yaml\n",
    "rules:\n",
    "  - rule_name: no-hardcoded-credentials\n",
    "    severity: error\n",
    "    description: Prevent hardcoding of sensitive credentials like API keys.\n",
    "  ...\n",
    "```"
   ]
  },
  {
   "cell_type": "code",
   "execution_count": null,
   "id": "ce8d119d-8d45-4607-9a7c-32a1390da1d5",
   "metadata": {},
   "outputs": [],
   "source": []
  },
  {
   "cell_type": "markdown",
   "id": "e80708ec-2752-49f9-b9f9-f99fb4e2572f",
   "metadata": {},
   "source": [
    "## Question 6:\n",
    "\n",
    "You’re simulating the output of a Copilot-style AI assistant that generates markdown-heavy documentation for utility functions.\n",
    "\n",
    "Your task:\n",
    "\n",
    "1. Write a prompt that asks the model to generate documentation for a Python function called `reconcile_transactions`.\n",
    "This function compares two sets of financial transaction records (e.g., internal ledger vs. bank statement) and identifies matches, mismatches, and discrepancies.\n",
    "\n",
    "2. Instruct the model to include extra commentary, formatting, and markdown — but embed a structured JSON object within the text.\n",
    "\n",
    "3. The embedded JSON object must contain the following keys:\n",
    "\n",
    "- function_name: string\n",
    "- dependencies: list of strings\n",
    "- logic_summary: 1-sentence summary of what the function does\n",
    "- notes: list of short bullet points describing key features or implementation details\n",
    "\n",
    "4. Write a custom parser that extracts the JSON object from the noisy output. Your parser should:\n",
    "\n",
    "- Use regex to find the first { ... } block\n",
    "- Parse it using json.loads()\n",
    "- Return only the cleaned JSON object\n",
    "\n",
    "The final output should be a clean Python dictionary representing the embedded JSON block."
   ]
  },
  {
   "cell_type": "code",
   "execution_count": null,
   "id": "d44571b4-f145-423c-81fd-1b834b541858",
   "metadata": {},
   "outputs": [],
   "source": []
  }
 ],
 "metadata": {
  "kernelspec": {
   "display_name": "Python 3 (ipykernel)",
   "language": "python",
   "name": "python3"
  },
  "language_info": {
   "codemirror_mode": {
    "name": "ipython",
    "version": 3
   },
   "file_extension": ".py",
   "mimetype": "text/x-python",
   "name": "python",
   "nbconvert_exporter": "python",
   "pygments_lexer": "ipython3",
   "version": "3.12.9"
  }
 },
 "nbformat": 4,
 "nbformat_minor": 5
}
