{
 "cells": [
  {
   "cell_type": "markdown",
   "id": "b0641f96-c841-48e3-b03c-c251edb2f405",
   "metadata": {},
   "source": [
    "# Instructions\n",
    "\n",
    "For the challenges in this module you will be using a variety of different files in the S3 bucket.  Be sure to pay attention to which file is to be used for each question."
   ]
  },
  {
   "cell_type": "markdown",
   "id": "e0d7b8bf-fcd6-4aec-921b-01b4d599f029",
   "metadata": {},
   "source": [
    "## Question 1:\n",
    "\n",
    "Using the dataset in `ecommerce_data.csv`, identify the top three best-selling products in each country based on total quantity sold. For each product, calculate the total quantity sold and the total revenue (Quantity × UnitPrice). Return your answer in any format that makes sense providing each key country and its list of the top three products with their 'Description', 'Total Quantity Sold', and 'Total Revenue'."
   ]
  },
  {
   "cell_type": "code",
   "execution_count": null,
   "id": "abfd3488-0bc0-4d34-a605-4e68e7922423",
   "metadata": {},
   "outputs": [],
   "source": []
  },
  {
   "cell_type": "markdown",
   "id": "8da05da6-b7ef-4251-98cd-86111bf5f293",
   "metadata": {},
   "source": [
    "## Question 2:\n",
    "\n",
    "Analyze the dataset in `ecommerce_data.csv` to compute the average spending per invoice for each country. For every invoice, sum the product of Quantity and UnitPrice to determine its total, then average these totals for each country. Identify which country has the highest average invoice spending. Return your answer in JSON format with each country and its average spending, along with a separate field for the country with the highest average."
   ]
  },
  {
   "cell_type": "code",
   "execution_count": null,
   "id": "ed8cb978-6a3a-427c-8177-25adc8505da7",
   "metadata": {},
   "outputs": [],
   "source": []
  },
  {
   "cell_type": "markdown",
   "id": "6a60bcad-daf9-4630-b3c5-85ca8c0f8c67",
   "metadata": {},
   "source": [
    "## Question 3:\n",
    "\n",
    "Examine the 'InvoiceDate' field in `ecommerce_data.csv` to determine if there are any seasonal patterns in the sales data. Identify the time period (day, week, or month) that shows the highest total sales revenue (calculated as Quantity × UnitPrice). Provide supporting metrics such as total revenue for each period and any observed trends. Return your analysis in JSON format with clear supporting metrics for each period."
   ]
  },
  {
   "cell_type": "code",
   "execution_count": null,
   "id": "1be7d5a9-2ffd-44b5-93ad-bc8b101d25c8",
   "metadata": {},
   "outputs": [],
   "source": []
  },
  {
   "cell_type": "markdown",
   "id": "184a7f2e-d0dc-4346-a47d-95a4debaf337",
   "metadata": {},
   "source": [
    "## Question 4:\n",
    "\n",
    "Determine the total sales revenue in `ecommerce_data.csv` for each day of the week (Monday, Tuesday, etc.) from the provided e-commerce dataset. For each transaction, compute revenue as Quantity multiplied by UnitPrice, and use the InvoiceDate to determine the day of the week. Then, aggregate the revenue by day of the week and identify which day has the highest total revenue. Return your answer as a JSON object where each key is a day of the week mapped to its total revenue, and include an extra key 'day_with_highest_revenue' indicating the day with the maximum total revenue."
   ]
  },
  {
   "cell_type": "code",
   "execution_count": null,
   "id": "eb5462fa-b86d-4c32-9111-f48ffd1d55ab",
   "metadata": {},
   "outputs": [],
   "source": []
  },
  {
   "cell_type": "markdown",
   "id": "86a3e9ee-d96d-432d-8f91-67f86721826f",
   "metadata": {},
   "source": [
    "## Question 5:\n",
    "\n",
    "Using the file `balance_sheet.csv` in the S3 bucket, provide a JSON array output of the keys `Year`, `TotalAssets`, `CashAndSTInvestments`, and `CashSTGrowth`, populating these values for each year from the data."
   ]
  },
  {
   "cell_type": "code",
   "execution_count": null,
   "id": "8e0968e6-e6a2-4528-b770-cc135601fb15",
   "metadata": {},
   "outputs": [],
   "source": []
  },
  {
   "cell_type": "markdown",
   "id": "1f93003b-3088-4be2-ab8a-306ed6f471b9",
   "metadata": {},
   "source": [
    "## Question 6:\n",
    "\n",
    "Using the file `balance_sheet.csv`, compute the liquidity ratio for each year (defined as Cash & Short Term Investments divided by Total Assets) and calculate the year-over-year asset growth percentage for each consecutive pair of years. Then, output your results as a valid JSON object with two keys: \"LiquidityMetrics\" (an array of objects, each containing the year and its corresponding liquidity ratio) and \"AssetTrends\" (an array of objects for each year, starting from the second, with the computed asset growth percentage)."
   ]
  },
  {
   "cell_type": "code",
   "execution_count": null,
   "id": "ddb95744-296d-4335-9dfc-0442b07d1130",
   "metadata": {},
   "outputs": [],
   "source": []
  },
  {
   "cell_type": "markdown",
   "id": "a3a9d131-f16a-4aed-be11-653c5cad3c9c",
   "metadata": {},
   "source": [
    "## Question 7:\n",
    "\n",
    "Given the earnings report available in `full_text.txt` in the S3 bucket, extract the condensed consolidated balance sheets and output that information in a markdown table. "
   ]
  },
  {
   "cell_type": "code",
   "execution_count": null,
   "id": "fb0289a5-4789-4a0f-854e-aea4b6448ade",
   "metadata": {},
   "outputs": [],
   "source": []
  },
  {
   "cell_type": "markdown",
   "id": "6ae55632-2d88-4775-a069-5f0fc8fe35e9",
   "metadata": {},
   "source": [
    "## Question 8:\n",
    "\n",
    "Using the file `full_text.txt`, extract year-over-year financial data for three metrics—gross profit, total operating expenses, and net income and calculate the differences and percentage changes. The output must be a JSON array where each element is an object containing the keys \"metric\", \"current\", \"previous\", \"difference\", and \"percentage_change\". Each value should be represented as a string with appropriate units (e.g., \"100.0 million\" or \"10.0%\"), and no additional text or separate JSON arrays should be included."
   ]
  },
  {
   "cell_type": "code",
   "execution_count": null,
   "id": "f21917f4-47d0-4e8f-8209-27706c676e05",
   "metadata": {},
   "outputs": [],
   "source": []
  }
 ],
 "metadata": {
  "kernelspec": {
   "display_name": "Python 3 (ipykernel)",
   "language": "python",
   "name": "python3"
  },
  "language_info": {
   "codemirror_mode": {
    "name": "ipython",
    "version": 3
   },
   "file_extension": ".py",
   "mimetype": "text/x-python",
   "name": "python",
   "nbconvert_exporter": "python",
   "pygments_lexer": "ipython3",
   "version": "3.12.9"
  }
 },
 "nbformat": 4,
 "nbformat_minor": 5
}
