{
 "cells": [
  {
   "cell_type": "markdown",
   "id": "32363f59-4a98-49bf-85c3-666380e1e659",
   "metadata": {},
   "source": [
    "# Instructions\n",
    "\n",
    "For the challenges in this module you will be using a variety of different files in the S3 bucket.  Be sure to pay attention to which file is to be used for each question.\n",
    "For this assignment you will be using the file `q2_results.txt` in the provided S3 bucket."
   ]
  },
  {
   "cell_type": "markdown",
   "id": "b042424a-ab94-48c5-8c6a-0ac988122423",
   "metadata": {},
   "source": [
    "## Question 1:\n",
    "\n",
    "From the file `q2_results.txt` calculate the previous year's Q2 figures for subscription fees and transaction fees given that the current quarter’s subscription fees are 67.7 million USD (up 7% YoY) and transaction fees are 251.9 million USD (up 19% YoY). Then, verify that the sum of these base amounts aligns with the reported overall 16% increase to a current core revenue of 319.6 million USD. Show all your work and calculations."
   ]
  },
  {
   "cell_type": "code",
   "execution_count": null,
   "id": "13a05ead-b943-46ff-82e1-6911bad70689",
   "metadata": {},
   "outputs": [],
   "source": []
  },
  {
   "cell_type": "markdown",
   "id": "f3b773cc-7c88-4b44-87ee-3a8fa09d7c53",
   "metadata": {},
   "source": [
    "## Question 2:\n",
    "\n",
    "Using the file `q2_results.txt` analyze the Q2 FY25 actual financial results presented in the document.  Discuss how the changes in core revenue, total revenue, operating loss, and net income reflect the company's performance, and explain what these figures might indicate about the company's overall growth trajectory and operational efficiency.  Provide a detailed analysis with supporting insights."
   ]
  },
  {
   "cell_type": "code",
   "execution_count": null,
   "id": "73ffdc48-9a44-419e-87b4-a29cb2d7444c",
   "metadata": {},
   "outputs": [],
   "source": []
  },
  {
   "cell_type": "markdown",
   "id": "df96821d-0b06-48c3-890d-b1cfc70bdd51",
   "metadata": {},
   "source": [
    "## Question 3:\n",
    "\n",
    "Summarize the key differences between GAAP and non-GAAP financial measures as detailed in `q2_results.txt`. Identify which items are excluded from the non-GAAP calculations and discuss the rationale behind these exclusions from the perspective of financial analysis and investor decision-making."
   ]
  },
  {
   "cell_type": "code",
   "execution_count": null,
   "id": "2e1bca12-9a1e-4775-8e67-b2e19784a0de",
   "metadata": {},
   "outputs": [],
   "source": []
  },
  {
   "cell_type": "markdown",
   "id": "7f9f15e9-55ec-4656-8f16-67dc763fa1ae",
   "metadata": {},
   "source": [
    "## Question 4:\n",
    "\n",
    "From the forward-looking statements section in `q2_results.txt`, identify at least three major risks or uncertainties that BILL highlights as potentially affecting future performance. Provide a detailed analysis of how each risk could impact the company’s financial results and the overall business outlook."
   ]
  },
  {
   "cell_type": "code",
   "execution_count": null,
   "id": "a9996496-5905-403e-b981-359cef788637",
   "metadata": {},
   "outputs": [],
   "source": []
  }
 ],
 "metadata": {
  "kernelspec": {
   "display_name": "Python 3 (ipykernel)",
   "language": "python",
   "name": "python3"
  },
  "language_info": {
   "codemirror_mode": {
    "name": "ipython",
    "version": 3
   },
   "file_extension": ".py",
   "mimetype": "text/x-python",
   "name": "python",
   "nbconvert_exporter": "python",
   "pygments_lexer": "ipython3",
   "version": "3.12.9"
  }
 },
 "nbformat": 4,
 "nbformat_minor": 5
}
