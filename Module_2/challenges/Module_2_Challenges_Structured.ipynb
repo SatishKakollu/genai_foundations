{
 "cells": [
  {
   "cell_type": "markdown",
   "id": "4970be5d-b6d8-42c0-b83a-2cc3db047a74",
   "metadata": {},
   "source": [
    "# Introduction\n",
    "\n",
    "For these tasks you will be working with the file `2025Q2_data_cleaned.xlsx`, which is in the S3 bucket.  Before you begin these tasks, you are strongly encouraged to look at that file to get a feel for what is in there and develop strategies for how you will ingest this data!\n",
    "\n",
    "In the answering of the following questions, be sure to consider everything we have talked to until this point, including both model and prompt optimization.  You also might find it useful to add memory to your chain so that you can continue to ask questions until you land on the answer you like for your submissions."
   ]
  },
  {
   "cell_type": "markdown",
   "id": "c0ec8d41-bdc5-493f-bffc-eecef58502d1",
   "metadata": {},
   "source": [
    "## Question 1\n",
    "\n",
    "Utilizing the provided data, determine the percent change in subscription fees between 2023 and 2024."
   ]
  },
  {
   "cell_type": "code",
   "execution_count": null,
   "id": "aebeac31-b1c8-4fa7-ad4d-74b0d47870ec",
   "metadata": {},
   "outputs": [],
   "source": []
  },
  {
   "cell_type": "markdown",
   "id": "53386f55-3954-4eae-b35e-42bb21eb50cd",
   "metadata": {},
   "source": [
    "## Question 2\n",
    "\n",
    "For the three-month period in 2024, calculate the operating margin and explain in a few sentences what this margin indicates about the company's performance."
   ]
  },
  {
   "cell_type": "code",
   "execution_count": null,
   "id": "f9002afb-35bd-4fca-85ca-06c3c29c35fd",
   "metadata": {},
   "outputs": [],
   "source": []
  },
  {
   "cell_type": "markdown",
   "id": "bafde192-d089-47c3-a27a-829e4a6f574c",
   "metadata": {},
   "source": [
    "## Question 3\n",
    "\n",
    "Summarize the key changes in revenue, costs, and profits between 2023 and 2024."
   ]
  },
  {
   "cell_type": "code",
   "execution_count": null,
   "id": "e191b04f-e04d-483c-9f17-6acb1dda2e3e",
   "metadata": {},
   "outputs": [],
   "source": []
  },
  {
   "cell_type": "markdown",
   "id": "f4b67de8-06e5-4934-940e-c5b70acdd958",
   "metadata": {},
   "source": [
    "## Question 4\n",
    "\n",
    "Between the 2023 and 2024 data what are the revenue trends and their drivers?"
   ]
  },
  {
   "cell_type": "code",
   "execution_count": null,
   "id": "3500c7b1-461f-4e81-9915-c83b0151c92d",
   "metadata": {},
   "outputs": [],
   "source": []
  }
 ],
 "metadata": {
  "kernelspec": {
   "display_name": "Python 3 (ipykernel)",
   "language": "python",
   "name": "python3"
  },
  "language_info": {
   "codemirror_mode": {
    "name": "ipython",
    "version": 3
   },
   "file_extension": ".py",
   "mimetype": "text/x-python",
   "name": "python",
   "nbconvert_exporter": "python",
   "pygments_lexer": "ipython3",
   "version": "3.11.11"
  }
 },
 "nbformat": 4,
 "nbformat_minor": 5
}
