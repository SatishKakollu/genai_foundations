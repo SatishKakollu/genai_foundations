{
 "cells": [
  {
   "cell_type": "markdown",
   "id": "1b730919-9b9a-4c61-9887-1f91370294ab",
   "metadata": {},
   "source": [
    "# Instructions\n",
    "\n",
    "For the tasks for this module you will need to create a RAG utilizing the following files in the S3 bucket:\n",
    "\n",
    "- Bill-q2-2025-10-q.pdf\n",
    "- BILL-Q2-25-Investor-Deck.pdf\n",
    "- BILL-Q2-25-Press-Release-2-6-25.pdf\n",
    "- Bill-10-k-6-30-2024.pdf\n",
    "\n",
    "You may also bring in any additional data sources you choose (although you should consider the following questions and use them to guide what additional data might be helpful if you choose to do so).\n",
    "\n",
    "In the answering of the following questions, be sure to consider everything we have talked to until this point, including both model and prompt optimization.  You might find it helpful to go beyond the `RetrievalQA.from_chain_type()` in Module 3 Activity 3 and explore using `create_stuff_documents_chain` and `create_retrieval_chain`.  You also might find it useful to add memory to your chain so that you can continue to ask questions until you land on the answer you like for your submissions."
   ]
  },
  {
   "cell_type": "markdown",
   "id": "0ac57232-3bf5-411e-bcd9-f3c73c007677",
   "metadata": {},
   "source": [
    "## Question 1\n",
    "\n",
    "Describe BILL's financial performance and strategic outlook as of December 31, 2024.  Be sure to indicate the source(s) of the information used to create this perspective."
   ]
  },
  {
   "cell_type": "code",
   "execution_count": null,
   "id": "a3149712-d67b-40b6-8be7-94896a1ed808",
   "metadata": {},
   "outputs": [],
   "source": []
  },
  {
   "cell_type": "markdown",
   "id": "56fb8763-7130-4a19-b5ea-ececc6c9d9c5",
   "metadata": {},
   "source": [
    "## Question 2\n",
    "\n",
    "What primary drivers for future performance are consistently emphasized by BILL?"
   ]
  },
  {
   "cell_type": "code",
   "execution_count": null,
   "id": "39ff1d30-290f-44df-824b-5a986b75a2e0",
   "metadata": {},
   "outputs": [],
   "source": []
  },
  {
   "cell_type": "markdown",
   "id": "8c9f27d9-b412-4613-963e-c767a75963fb",
   "metadata": {},
   "source": [
    "## Question 3\n",
    "\n",
    "Considering the strategic initiatives detailed in the investor deck and press release, how does management justify these plans against the backdrop of market challenges and potential financial headwinds identified in the 10-Q statement?"
   ]
  },
  {
   "cell_type": "code",
   "execution_count": null,
   "id": "eb7bf609-fc1c-4407-92c2-082908ce1e75",
   "metadata": {},
   "outputs": [],
   "source": []
  },
  {
   "cell_type": "markdown",
   "id": "109ca07e-5ccf-43b3-a2b6-5027d3dafb59",
   "metadata": {},
   "source": [
    "## Question 4\n",
    "\n",
    "Based on the provided files and any additional data you used, what might be a new product that you could recommend that BILL develop to enhance its existing platform?"
   ]
  },
  {
   "cell_type": "code",
   "execution_count": null,
   "id": "271dfb7b-b48f-4635-9937-d6339d2a86d5",
   "metadata": {},
   "outputs": [],
   "source": []
  },
  {
   "cell_type": "code",
   "execution_count": null,
   "id": "b0f9fdd6-5011-4ab4-9e7c-1fdabdbbb66d",
   "metadata": {},
   "outputs": [],
   "source": []
  }
 ],
 "metadata": {
  "kernelspec": {
   "display_name": "Python 3 (ipykernel)",
   "language": "python",
   "name": "python3"
  },
  "language_info": {
   "codemirror_mode": {
    "name": "ipython",
    "version": 3
   },
   "file_extension": ".py",
   "mimetype": "text/x-python",
   "name": "python",
   "nbconvert_exporter": "python",
   "pygments_lexer": "ipython3",
   "version": "3.11.11"
  }
 },
 "nbformat": 4,
 "nbformat_minor": 5
}
