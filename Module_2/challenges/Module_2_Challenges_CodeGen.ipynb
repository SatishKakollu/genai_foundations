{
 "cells": [
  {
   "cell_type": "markdown",
   "id": "88082e1b-f205-4573-ab36-82aa16fb80b6",
   "metadata": {},
   "source": [
    "# Introduction\n",
    "\n",
    "For the questions in this module you will be using the file `api_docs.txt` in the S3 bucket, which is a text scraping of the Bill v3 API docs.  You will need to create a RAG out of these docs for answering the following questions."
   ]
  },
  {
   "cell_type": "markdown",
   "id": "fb031601-14c0-4e96-816e-41343993bd17",
   "metadata": {},
   "source": [
    "## Question 1\n",
    "\n",
    "Write a function that will create a vendor in the API Sandbox with the following information:\n",
    "\n",
    "    - Name: Downtown Printing & Design\n",
    "    - Account Type: BUSINESS\n",
    "    - Email: support@downtownprint.com\n",
    "    - Phone: 4081234567\n",
    "    - Address: 101 First Ave, Palo Alto, CA 94301, USA\n",
    "    - Bank account name: Downtown Print\n",
    "    - Name on Account: Diana Printson\n",
    "    - Account Number: 444555666\n",
    "    - Routing Number: 074000010"
   ]
  },
  {
   "cell_type": "code",
   "execution_count": null,
   "id": "d71aaf1c-0fe5-45f5-bcaa-55131de59023",
   "metadata": {},
   "outputs": [],
   "source": []
  },
  {
   "cell_type": "markdown",
   "id": "0ac4d1e4-a58a-439c-b1d5-5fa27a09cf59",
   "metadata": {},
   "source": [
    "## Question 2\n",
    "\n",
    "Write a function that will create an invoice for a random amount between 100.00 - 1000.00 dollars when provided with a vendor ID."
   ]
  },
  {
   "cell_type": "code",
   "execution_count": null,
   "id": "be47b833-bb8a-4887-8dcf-45cc220b1f0a",
   "metadata": {},
   "outputs": [],
   "source": []
  },
  {
   "cell_type": "markdown",
   "id": "c54cea23-5a71-4caa-9fd1-144f7bde2855",
   "metadata": {},
   "source": [
    "## Question 3\n",
    "\n",
    "Write a function that will return all unpaid invoices from the API into the following format:\n",
    "\n",
    "`Invoice Number: ... | Vendor ID: ... | Amount: ... | Due: ...`"
   ]
  },
  {
   "cell_type": "code",
   "execution_count": null,
   "id": "ae7fad3e-56db-4e28-b953-0e2c88e5a5d3",
   "metadata": {},
   "outputs": [],
   "source": []
  },
  {
   "cell_type": "markdown",
   "id": "9273bdaf-df6c-47a6-b186-b04a02a42dcc",
   "metadata": {},
   "source": [
    "## Question 4\n",
    "\n",
    "Write a function that will return the total outstanding amount due for each vendor in an organization."
   ]
  },
  {
   "cell_type": "code",
   "execution_count": null,
   "id": "aa3316ab-5612-4447-bcb6-93a9c5e0e8ca",
   "metadata": {},
   "outputs": [],
   "source": []
  }
 ],
 "metadata": {
  "kernelspec": {
   "display_name": "Python 3 (ipykernel)",
   "language": "python",
   "name": "python3"
  },
  "language_info": {
   "codemirror_mode": {
    "name": "ipython",
    "version": 3
   },
   "file_extension": ".py",
   "mimetype": "text/x-python",
   "name": "python",
   "nbconvert_exporter": "python",
   "pygments_lexer": "ipython3",
   "version": "3.11.11"
  }
 },
 "nbformat": 4,
 "nbformat_minor": 5
}
