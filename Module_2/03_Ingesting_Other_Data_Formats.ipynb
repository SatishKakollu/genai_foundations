{
 "cells": [
  {
   "cell_type": "markdown",
   "id": "6fe2ecdd-a06c-4ed2-96a4-d571d854969b",
   "metadata": {},
   "source": [
    "# Module 2, Activity 3: Ingesting Other Data Formats\n",
    "\n",
    "Until this point we have strictly been working with text (or CSV that we read in like text).  However, as you begin creating RAG applications you will obviously want to consider many other data formats.  This notebook will quickly walk you through a few common ones for inclusion in your vector store.  We need to start by installing a few packages that are not part of our SageMaker environements."
   ]
  },
  {
   "cell_type": "code",
   "execution_count": 8,
   "id": "7fdcfa92-8aca-4af5-9ffa-0782af0e723d",
   "metadata": {
    "scrolled": true
   },
   "outputs": [
    {
     "name": "stdout",
     "output_type": "stream",
     "text": [
      "Requirement already satisfied: pypdf in /Users/skkakollu/genai_foundations/env/lib/python3.12/site-packages (5.5.0)\n",
      "\n",
      "\u001b[1m[\u001b[0m\u001b[34;49mnotice\u001b[0m\u001b[1;39;49m]\u001b[0m\u001b[39;49m A new release of pip is available: \u001b[0m\u001b[31;49m24.2\u001b[0m\u001b[39;49m -> \u001b[0m\u001b[32;49m25.1.1\u001b[0m\n",
      "\u001b[1m[\u001b[0m\u001b[34;49mnotice\u001b[0m\u001b[1;39;49m]\u001b[0m\u001b[39;49m To update, run: \u001b[0m\u001b[32;49mpip install --upgrade pip\u001b[0m\n",
      "Requirement already satisfied: openpyxl in /Users/skkakollu/genai_foundations/env/lib/python3.12/site-packages (3.1.5)\n",
      "Requirement already satisfied: et-xmlfile in /Users/skkakollu/genai_foundations/env/lib/python3.12/site-packages (from openpyxl) (2.0.0)\n",
      "\n",
      "\u001b[1m[\u001b[0m\u001b[34;49mnotice\u001b[0m\u001b[1;39;49m]\u001b[0m\u001b[39;49m A new release of pip is available: \u001b[0m\u001b[31;49m24.2\u001b[0m\u001b[39;49m -> \u001b[0m\u001b[32;49m25.1.1\u001b[0m\n",
      "\u001b[1m[\u001b[0m\u001b[34;49mnotice\u001b[0m\u001b[1;39;49m]\u001b[0m\u001b[39;49m To update, run: \u001b[0m\u001b[32;49mpip install --upgrade pip\u001b[0m\n"
     ]
    }
   ],
   "source": [
    "!pip install pypdf\n",
    "!pip install openpyxl"
   ]
  },
  {
   "cell_type": "code",
   "execution_count": 9,
   "id": "88d763e8-a1d8-4ed6-8aef-a0b40dcda928",
   "metadata": {},
   "outputs": [],
   "source": [
    "import boto3\n",
    "from openpyxl import load_workbook\n",
    "import os\n",
    "import pandas as pd\n",
    "import tempfile\n",
    "\n",
    "from langchain_community.document_loaders import PyPDFLoader\n",
    "from langchain.docstore.document import Document\n",
    "from langchain.text_splitter import RecursiveCharacterTextSplitter"
   ]
  },
  {
   "cell_type": "markdown",
   "id": "e0fcc790-9793-402b-867f-44ea95eb8352",
   "metadata": {},
   "source": [
    "## Some helper functions\n",
    "\n",
    "We have been getting raw text from S3 with the `get_data_from_s3` helper function.  Now we will add a few more helper functions for dealing with PDFs and Excel files.  These functions will get the files from S3 and then convert them into a list where each entry is in the LangChain Document format, the required input for creating embeddings."
   ]
  },
  {
   "cell_type": "code",
   "execution_count": 4,
   "id": "0476b6bb-53c6-466e-88ae-308af93ba5a8",
   "metadata": {},
   "outputs": [],
   "source": [
    "def get_data_from_s3(bucket_name, key):\n",
    "    s3 = boto3.client(\n",
    "        's3',\n",
    "        region_name=\"us-west-2\",\n",
    "    )\n",
    "    response = s3.get_object(Bucket=bucket_name, Key=key)\n",
    "    data = response['Body'].read().decode('utf-8')\n",
    "\n",
    "    return data"
   ]
  },
  {
   "cell_type": "code",
   "execution_count": 5,
   "id": "180cc110-a2b6-4c60-aa7b-fc18e784d502",
   "metadata": {},
   "outputs": [],
   "source": [
    "def get_pdf_docs_from_s3(bucket_name, key):\n",
    "\n",
    "    s3 = boto3.client('s3', region_name=\"us-west-2\")\n",
    "    response = s3.get_object(Bucket=bucket_name, Key=key)\n",
    "    pdf_bytes = response['Body'].read()\n",
    "    \n",
    "    # Write PDF bytes into a temporary file\n",
    "    with tempfile.NamedTemporaryFile(suffix=\".pdf\", delete=False) as tmp_file:\n",
    "        tmp_file.write(pdf_bytes)\n",
    "        tmp_file.flush()  # Ensure data is written to disk\n",
    "        \n",
    "        # Pass the path of the temporary file to PyPDFLoader\n",
    "        loader = PyPDFLoader(tmp_file.name)\n",
    "        documents = loader.load()\n",
    "    \n",
    "    return documents"
   ]
  },
  {
   "cell_type": "code",
   "execution_count": null,
   "id": "abf58bf8-81b6-4260-ab59-e83e03d5b430",
   "metadata": {},
   "outputs": [],
   "source": [
    "def get_excel_from_s3(bucket_name, s3_key):\n",
    "\n",
    "    \"\"\"\n",
    "    Loads an Excel file from S3, parses each sheet with pandas,\n",
    "    and returns one LangChain Document per row.\n",
    "    \"\"\"\n",
    "    with tempfile.TemporaryDirectory() as tmpdir:\n",
    "        local_path = os.path.join(tmpdir, 'file.xlsx')\n",
    "        s3 = boto3.client('s3')\n",
    "        s3.download_file(bucket_name, s3_key, local_path)\n",
    "\n",
    "        # Load all sheets\n",
    "        dfs = pd.read_excel(local_path, sheet_name=None)\n",
    "\n",
    "        documents = []\n",
    "\n",
    "        for sheet_name, df in dfs.items():\n",
    "            df = df.fillna(\"\")  # Optional: handle missing values\n",
    "\n",
    "            for idx, row in df.iterrows():\n",
    "                content = row.to_json(force_ascii=False, indent=2)\n",
    "                metadata = {\n",
    "                    \"sheet_name\": sheet_name,\n",
    "                    \"row_index\": idx,\n",
    "                    \"columns\": list(df.columns)\n",
    "                }\n",
    "                documents.append(Document(page_content=content, metadata=metadata))\n",
    "\n",
    "        return documents"
   ]
  },
  {
   "cell_type": "code",
   "execution_count": null,
   "id": "be786aae-f412-4fbd-b72f-fe271c70245d",
   "metadata": {},
   "outputs": [],
   "source": [
    "session = boto3.session.Session()\n",
    "region = session.region_name\n",
    "bedrock_runtime = boto3.client(\"bedrock-runtime\", region_name='us-west-2')"
   ]
  },
  {
   "cell_type": "markdown",
   "id": "a25d3f28-a5a0-4e4b-90ca-89ed6be8b204",
   "metadata": {},
   "source": [
    "We can now run these cells to convert a PDF file to the LangChain `Document` format."
   ]
  },
  {
   "cell_type": "code",
   "execution_count": 6,
   "id": "6cd7e499-a35f-40e2-aa17-2bcb68d0e985",
   "metadata": {
    "scrolled": true
   },
   "outputs": [
    {
     "data": {
      "text/plain": [
       "[Document(metadata={'producer': 'Wdesk Fidelity Content Translations Version 011.001.078', 'creator': 'Workiva', 'creationdate': '2025-02-06T19:54:35+00:00', 'moddate': '2025-02-06T19:54:35+00:00', 'title': 'Bill-2024.12.31-EX-99.1', 'author': 'anonymous', 'source': '/var/folders/hk/x5jlwc1s6dx_w4j79wt6vr2w0000gp/T/tmpg1egmilf.pdf', 'total_pages': 14, 'page': 0, 'page_label': '1'}, page_content='BILL Reports Second Quarter Fiscal Year 2025 Financial Results\\n• Q2 Core Revenue Increased 16% Year-Over-Year\\n• Q2 Total Revenue Increased 14% Year-Over-Year\\nSAN JOSE, Calif.--(BUSINESS WIRE) – February 6, 2025 – BILL (NYSE: BILL), a leading financial operations platform for small \\nand midsize businesses (SMBs), today announced financial results for the second fiscal quarter ended December 31, 2024.\\n“We delivered strong financial results and innovated at a rapid pace as we executed on our vision to be the de facto intelligent \\nfinancial operations platform for SMBs,” said René Lacerte, BILL CEO and Founder. “We are leveraging our leadership position to \\nempower small and mid-sized businesses and the partners that we serve, and we are extending our lead by expanding the depth and \\nbreadth of our platform and diverse distribution ecosystem. Today, more than 480,000 businesses rely on BILL to manage their day-\\nto-day financial workflow. We are moving fast to address a vast market opportunity to transform the financial operations for millions \\nof SMBs.”\\n“In Q2, we delivered strong financial results, expanded our non-GAAP operating margin, and continued our track record of \\nexecution across the company,” said John Rettig, BILL President and CFO. “We are executing on our strategic priorities and are \\nconfident that our strong business model will allow us to drive years of durable growth, an attractive long-term profitability profile, \\nand sustained value generation for shareholders.”\\nFinancial Highlights for the Second Quarter of Fiscal 2025:\\n• Total revenue was $362.6 million, an increase of 14% year-over-year.\\n• Core revenue, which consists of subscription and transaction fees, was $319.6 million, an increase of 16% year-over-\\nyear. Subscription fees were $67.7 million, up 7% year-over-year. Transaction fees were $251.9 million, up 19% year-\\nover-year.\\n• Float revenue, which consists of interest on funds held for customers, was $42.9 million.\\n• Gross profit was $295.9 million, representing an 81.6% gross margin, compared to $260.1 million, or an 81.7% gross \\nmargin, in the second quarter of fiscal 2024. Non-GAAP gross profit was $308.9 million, representing an 85.2% non-\\nGAAP gross margin, compared to $273.7 million, or an 85.9% non-GAAP gross margin, in the second quarter of \\nfiscal 2024.\\n• Operating loss was $21.7 million, compared to an operating loss of $67.7 million in the second quarter of fiscal 2024. \\nNon-GAAP operating income was $62.8 million, compared to $44.3 million in the second quarter of fiscal 2024, an \\nincrease of 41.8% year-over-year.\\n• Net income was $33.5 million, or $0.33 and $(0.06) per share, basic and diluted, respectively, compared to net loss of \\n$40.4 million, or $(0.38) per basic and diluted share, in the second quarter of fiscal 2024. Non-GAAP net income was \\n$62.9 million, or $0.56 per diluted share, compared to non-GAAP net income of $60.0 million, or $0.51 per diluted \\nshare, in the second quarter of fiscal 2024.\\nBusiness Highlights and Recent Developments:\\n• Served 481,300 businesses using our solutions as of the end of the second quarter.1\\n• Processed $84 billion in total payment volume in the second quarter, an increase of 13% year-over-year.\\n• Processed 30 million transactions during the second quarter, an increase of 17% year-over-year.\\n• Completed an offering of $1.4 billion of 0% convertible senior notes due 2030, including full exercise of initial purchasers’ \\n$150 million option to purchase additional notes.\\n• Repurchased approximately $134 million aggregate principal amount of our outstanding 0% Convertible Senior Notes due \\n2025 and approximately $451 million aggregate principal amount of our outstanding 0% Convertible Senior Notes due 2027.\\n• Repurchased approximately 2.3 million shares of BILL common stock in the second quarter for a total cost of approximately \\n$200 million.\\n1 Businesses using more than one of our solutions are included separately in the total for each solution utilized.'),\n",
       " Document(metadata={'producer': 'Wdesk Fidelity Content Translations Version 011.001.078', 'creator': 'Workiva', 'creationdate': '2025-02-06T19:54:35+00:00', 'moddate': '2025-02-06T19:54:35+00:00', 'title': 'Bill-2024.12.31-EX-99.1', 'author': 'anonymous', 'source': '/var/folders/hk/x5jlwc1s6dx_w4j79wt6vr2w0000gp/T/tmpg1egmilf.pdf', 'total_pages': 14, 'page': 1, 'page_label': '2'}, page_content='• Added seasoned executives, Keri Gohman and Dan Wernikoff, to our board of directors.\\nFinancial Outlook\\nWe are providing the following guidance for the fiscal third quarter ending March 31, 2025 and the full fiscal year ending June 30, \\n2025.\\nQ3 FY25\\nGuidance\\nFY25\\nGuidance\\nTotal revenue (millions) $352.5 - $357.5 $1,454.0 - $1,469.0\\nYear-over-year total revenue growth 9% - 11% 13% - 14%\\nCore revenue (millions) $317.5 - $322.5 $1,297.0 - $1,312.0\\nYear-over-year core revenue growth 13% - 15% 16% - 17%\\nNon-GAAP operating income (millions) $38.0 - $43.0 $207.5 - $222.5\\nNon-GAAP net income (millions) $42.0 - $46.0 $216.0 - $228.0\\nNon-GAAP net income per diluted share $0.35 - $0.38 $1.87 - $1.97\\nThe outlook for non-GAAP net income and non-GAAP net income per diluted share includes a non-GAAP provision for income \\ntaxes of 20%. The outlook for non-GAAP net income takes into account the use of corporate cash for investment and other strategic \\ncapital allocation, including but not limited to the share repurchase program announced in August 2024. The outlook for non-GAAP \\nnet income per diluted share does not take any future repurchases of BILL shares into account, as its impact on a per diluted share \\nbasis is not reasonably estimable.\\nThese statements are forward-looking and actual results may differ materially. Refer to the Forward-Looking Statements safe harbor \\nbelow for information on the factors that could cause our actual results to differ materially from these forward-looking statements.\\nBILL has not provided a reconciliation of its non-GAAP operating income, non-GAAP net income or non-GAAP net income per \\nshare guidance to the most directly comparable GAAP measures because certain items excluded from GAAP cannot be reasonably \\ncalculated or predicted at this time. Accordingly, a reconciliation is not available without unreasonable effort.\\nConference Call and Webcast Information\\nIn conjunction with this announcement, BILL will host a conference call for investors at 1:30 p.m. PT (4:30 p.m. ET) today to \\ndiscuss fiscal second quarter 2025 results and our outlook for the fiscal third quarter ending March 31, 2025 and fiscal year ending \\nJune 30, 2025. The live webcast and a replay of the webcast will be available at the Investor Relations section of BILL’s website: \\nhttps://investor.bill.com/events-and-presentations/default.aspx.\\nAbout BILL\\nBILL (NYSE: BILL) is a leading financial operations platform for small and midsize businesses (SMBs). As a champion of SMBs, \\nwe are automating the future of finance so businesses can thrive. Our integrated platform helps businesses to more efficiently control \\ntheir payables, receivables and spend and expense management. Hundreds of thousands of businesses rely on BILL’s proprietary \\nnetwork of millions of members to pay or get paid faster. Headquartered in San Jose, California, BILL is a trusted partner of leading \\nU.S. financial institutions, accounting firms, and accounting software providers. For more information, visit bill.com.\\nNote on Forward-Looking Statements\\nThis press release and the accompanying conference call contain forward-looking statements within the meaning of the Private \\nSecurities Litigation Reform Act of 1995, which are statements other than statements of historical facts, and statements in the future \\ntense. Forward-looking statements are based on our expectations as of the date of this press release and are subject to a number of \\nrisks, uncertainties and assumptions, many of which involve factors or circumstances that are beyond our control. These statements \\ninclude, but are not limited to, statements regarding our expectations of future performance, including guidance for our total revenue, \\ncore revenue, non-GAAP operating income, non-GAAP net income, and non-GAAP net income per share for the fiscal third quarter \\nending March 31, 2025 and full fiscal year ending June 30, 2025, our planned investments in fiscal year 2025, our revenue growth \\nprofitability profile, activity under our previously-announced share repurchase program, our expectations for the growth of demand \\non our platform and the expansion of our customers’ utilization of our services. These risks and uncertainties include, but are not \\nlimited to macroeconomic factors, including changes in interest rates, tariffs and other trade barriers, inflation and volatile market'),\n",
       " Document(metadata={'producer': 'Wdesk Fidelity Content Translations Version 011.001.078', 'creator': 'Workiva', 'creationdate': '2025-02-06T19:54:35+00:00', 'moddate': '2025-02-06T19:54:35+00:00', 'title': 'Bill-2024.12.31-EX-99.1', 'author': 'anonymous', 'source': '/var/folders/hk/x5jlwc1s6dx_w4j79wt6vr2w0000gp/T/tmpg1egmilf.pdf', 'total_pages': 14, 'page': 2, 'page_label': '3'}, page_content='environments, as well as fluctuations in foreign exchange rates, our history of operating losses, our recent rapid growth, the large \\nsums of customer funds that we transfer daily, the risk of loss, errors and fraudulent activity, credit risk related to our BILL Divvy \\nCorporate Cards, our ability to attract new customers and convert trial customers into paying customers, our ability to invest in our \\nbusiness and develop new products and services, increased competition or new entrants in the marketplace, potential impacts of \\nacquisitions and investments, our relationships with accounting firms and financial institutions, the global impacts of ongoing \\ngeopolitical conflicts, and other risks detailed in the registration statements and periodic reports we file with the SEC, including our \\nquarterly and annual reports, which may be obtained on the Investor Relations section of BILL’s website (https://investor.bill.com/\\nfinancials/sec-filings/default.aspx) and on the SEC website at www.sec.gov. You should not rely on these forward-looking \\nstatements, as actual results may differ materially from those contemplated by these forward-looking statements as a result of such \\nrisks and uncertainties. All forward-looking statements in this press release are based on information available to us as of the date \\nhereof. We assume no obligation to update or revise the forward-looking statements contained in this press release or the \\naccompanying conference call because of new information, future events, or otherwise.\\nNon-GAAP Financial Measures\\nIn addition to financial measures prepared in accordance with U.S. generally accepted accounting principles (GAAP), this press \\nrelease and the accompanying tables contain, and the conference call will contain, non-GAAP financial measures, including non-\\nGAAP gross profit, non-GAAP gross margin, non-GAAP operating expenses, non-GAAP operating income, non-GAAP net income \\nand non-GAAP net income per share, basic and diluted. The non-GAAP financial information is presented for supplemental \\ninformational purposes only and is not intended to be considered in isolation or as a substitute for, or superior to, financial \\ninformation prepared and presented in accordance with GAAP. \\nInvestors are cautioned that there are material limitations associated with the use of non-GAAP financial measures as an analytical \\ntool.\\nWe exclude the following items from non-GAAP gross profit and non-GAAP gross margin:\\n• stock-based compensation and related payroll taxes\\n• depreciation and amortization\\nWe exclude the following items from non-GAAP operating expenses and non-GAAP operating income:\\n• stock-based compensation and related payroll taxes\\n• depreciation and amortization\\n• acquisition and integration-related expenses\\n• restructuring\\nWe exclude the following items from non-GAAP net income and non-GAAP net income per share:\\n• stock-based compensation expense and related payroll taxes\\n• depreciation and amortization\\n• acquisition and integration-related expenses\\n• restructuring\\n• gain on debt extinguishment\\n• amortization of debt issuance costs\\n• non-GAAP provision for income taxes\\nIt is important to note that the particular items we exclude from, or include in, our non-GAAP financial measures may differ from the \\nitems excluded from, or included in, similar non-GAAP financial measures used by other companies in the same industry. We also \\nperiodically review our non-GAAP financial measures and may revise these measures to reflect changes in our business or otherwise, \\nincluding our blended U.S. statutory tax rate.\\nWe believe that these non-GAAP financial measures provide useful information about our financial performance, enhance the overall \\nunderstanding of our past performance and future prospects, and allow for greater transparency with respect to important metrics \\nused by our management for financial and operational decision-making. We believe that these measures provide an additional tool \\nfor investors to use in comparing our core financial performance over multiple periods with other companies in our industry.\\nWe adjust the following items from one or more of our non-GAAP financial measures:\\nStock-based compensation and related payroll taxes charged to cost of revenue and operating expenses. We exclude stock-based \\ncompensation, which is a non-cash expense, and related payroll taxes from certain of our non-GAAP financial measures because we')]"
      ]
     },
     "execution_count": 6,
     "metadata": {},
     "output_type": "execute_result"
    }
   ],
   "source": [
    "documents = get_pdf_docs_from_s3(\"dpgenaitraining\", \"BILL-Q2-25-Press-Release-2-6-25.pdf\")\n",
    "documents[0:3]"
   ]
  },
  {
   "cell_type": "markdown",
   "id": "731619f5-7887-4bf0-8967-9e8d6b80c01d",
   "metadata": {},
   "source": [
    "These `Document`s can then easily be split and chunked for future embeddings or other use."
   ]
  },
  {
   "cell_type": "code",
   "execution_count": 7,
   "id": "ecd7f560-55c4-42ee-b088-e18496dac25f",
   "metadata": {},
   "outputs": [
    {
     "data": {
      "text/plain": [
       "41"
      ]
     },
     "execution_count": 7,
     "metadata": {},
     "output_type": "execute_result"
    }
   ],
   "source": [
    "text_splitter = RecursiveCharacterTextSplitter(\n",
    "    chunk_size = 1000,\n",
    "    chunk_overlap = 100\n",
    ")\n",
    "\n",
    "chunks = text_splitter.split_documents(documents)\n",
    "len(chunks)"
   ]
  },
  {
   "cell_type": "markdown",
   "id": "4da27f86-5bae-4b7c-af61-023592aa3b29",
   "metadata": {},
   "source": [
    "## Working with Excel files\n",
    "\n",
    "Working with raw Excel files can be a bit tricky.  In many cases you might be better converting them to CSV files and reading them as text.  However, this approach shows you a different approach using Pandas to read the files and then converting each sheet row-by-row into a LangChain `Document`."
   ]
  },
  {
   "cell_type": "code",
   "execution_count": null,
   "id": "c04190ea-2bda-43f6-80ea-16055c2a212e",
   "metadata": {},
   "outputs": [],
   "source": [
    "documents = get_excel_from_s3(\"dpgenaitraining\", \"sample_excel_data.xlsx\")\n",
    "for doc in documents[:3]:\n",
    "    print(f\"\\nFrom sheet: {doc.metadata['sheet_name']}, Row: {doc.metadata['row_index']}\")\n",
    "    print(doc.page_content)"
   ]
  },
  {
   "cell_type": "markdown",
   "id": "3a474e97-30be-445b-a6f6-5900ee90a493",
   "metadata": {},
   "source": [
    "## Concluding thoughts\n",
    "\n",
    "It is worth experimenting with the splitting, especially when it comes to creating embeddings around tabular data.  Recalling that LangChain will preferentially split on `[\"\\n\\n\", \"\\n\", \".\", \" \", \"\"]`, you might find that your tables are being split in some unusual places."
   ]
  },
  {
   "cell_type": "code",
   "execution_count": null,
   "id": "943efeff-613c-4124-9417-b4f342f33dde",
   "metadata": {},
   "outputs": [],
   "source": []
  }
 ],
 "metadata": {
  "kernelspec": {
   "display_name": "env",
   "language": "python",
   "name": "python3"
  },
  "language_info": {
   "codemirror_mode": {
    "name": "ipython",
    "version": 3
   },
   "file_extension": ".py",
   "mimetype": "text/x-python",
   "name": "python",
   "nbconvert_exporter": "python",
   "pygments_lexer": "ipython3",
   "version": "3.12.7"
  }
 },
 "nbformat": 4,
 "nbformat_minor": 5
}
