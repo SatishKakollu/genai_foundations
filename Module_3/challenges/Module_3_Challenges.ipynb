{
 "cells": [
  {
   "cell_type": "markdown",
   "id": "54a89a83-db3e-4747-a215-06fa0bea8dbe",
   "metadata": {},
   "source": [
    "# Instructions\n",
    "\n",
    "In this final set of challenges we will no longer be working in tracks, but rather on a unified set of problems.  You will be utilizing all of the skills you have learned throughout the course of the workshop.\n",
    "\n",
    "You will be provided with access to a BILL Sandbox that has data preloaded into it.  Using the v3 API, your task will be to create an agent that accesses the API and any other things you might choose.  Using this agent, you will need to complete the following."
   ]
  },
  {
   "cell_type": "markdown",
   "id": "cfc9b07c-0952-4a27-ae08-56c9a12dc776",
   "metadata": {},
   "source": [
    "## Question 1\n",
    "\n",
    "Within the Sandbox you will find a vendor named \"San Jose Music Supplies.\"  You will need to determine how much money they owe this organization as well as how late their required payments are.  Using this information, construct an email to them reminding them of their outstanding balance and requesting payment.  Use language that is appropriate to how late their payments are."
   ]
  },
  {
   "cell_type": "code",
   "execution_count": null,
   "id": "1421645b-eda4-492a-834c-117c64e88ba5",
   "metadata": {},
   "outputs": [],
   "source": []
  },
  {
   "cell_type": "markdown",
   "id": "a8bf77f6-ae6b-4f8a-aa39-35561c9f620c",
   "metadata": {},
   "source": [
    "## Question 2\n",
    "\n",
    "Also within the Sandbox is the vendor named \"Green Thumb Landscaping\" that has some outstanding payments.  Construct an email to them reminding them of their outstanding balance and requesting payment. Use language that is appropriate to how late their payments are."
   ]
  },
  {
   "cell_type": "code",
   "execution_count": null,
   "id": "6da6849b-54b3-4f04-ac30-bf1fb0192068",
   "metadata": {},
   "outputs": [],
   "source": []
  },
  {
   "cell_type": "markdown",
   "id": "e91dd2d8-9811-46c2-b4d1-b6fd3df35402",
   "metadata": {},
   "source": [
    "## Question 3\n",
    "\n",
    "You are the accountant for this simulated organization and have to provide a summary of the outstanding balances due to the organization.  Obtain this information and use it to craft an email to your boss with this information."
   ]
  },
  {
   "cell_type": "code",
   "execution_count": null,
   "id": "d4c0fb7e-d5ea-4a37-8ba8-161e11f833cf",
   "metadata": {},
   "outputs": [],
   "source": []
  },
  {
   "cell_type": "markdown",
   "id": "2a678c23-be61-4e0a-ba78-e5822e51c173",
   "metadata": {},
   "source": [
    "## Question 4\n",
    "\n",
    "Based on the data in the Sandbox, forecast potential cash flow issues based on increasing overdue trends and recommend actions such as changes to payment terms or prioritization of collections."
   ]
  },
  {
   "cell_type": "code",
   "execution_count": null,
   "id": "d9558e8d-e9ff-432a-b150-68358e23d9bc",
   "metadata": {},
   "outputs": [],
   "source": []
  }
 ],
 "metadata": {
  "kernelspec": {
   "display_name": "Python 3 (ipykernel)",
   "language": "python",
   "name": "python3"
  },
  "language_info": {
   "codemirror_mode": {
    "name": "ipython",
    "version": 3
   },
   "file_extension": ".py",
   "mimetype": "text/x-python",
   "name": "python",
   "nbconvert_exporter": "python",
   "pygments_lexer": "ipython3",
   "version": "3.12.9"
  }
 },
 "nbformat": 4,
 "nbformat_minor": 5
}
