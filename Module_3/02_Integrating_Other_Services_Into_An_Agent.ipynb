{
 "cells": [
  {
   "cell_type": "markdown",
   "id": "d6a4a44d-8d45-466b-a82b-498db35ee5d6",
   "metadata": {},
   "source": [
    "# Module 4, Activity 2: Integrating Other Services into an Agent \n",
    "\n",
    "In the previous activity we saw how to use an LLM to call an API by creating a tool.  In this activity, we will see how we can make tools to call other services, such as querying databases.  We will demonstrate this in SQL, but remember that you can incorporate any AWS service into your GenAI pipeline by turning it into a tool and binding it to your LLM."
   ]
  },
  {
   "cell_type": "code",
   "execution_count": null,
   "id": "6aacdad9-6603-444b-8b1c-0f695907027d",
   "metadata": {},
   "outputs": [],
   "source": [
    "import boto3\n",
    "import sqlite3\n",
    "\n",
    "from langchain.agents import AgentExecutor, create_tool_calling_agent, initialize_agent\n",
    "from langchain.agents.agent_types import AgentType\n",
    "from langchain_aws import ChatBedrock, ChatBedrockConverse\n",
    "from langchain.prompts import ChatPromptTemplate\n",
    "from langchain.tools import Tool, tool"
   ]
  },
  {
   "cell_type": "code",
   "execution_count": null,
   "id": "0dc75528-aea3-4d23-b806-ac4998de3053",
   "metadata": {},
   "outputs": [],
   "source": [
    "session = boto3.session.Session()\n",
    "region = session.region_name\n",
    "bedrock_runtime = boto3.client(\"bedrock-runtime\", region_name='us-west-2')"
   ]
  },
  {
   "cell_type": "markdown",
   "id": "c3b63aec-098b-4550-a5bf-77008798ff05",
   "metadata": {},
   "source": [
    "## Create an in-memory SQL database\n",
    "\n",
    "For this activity we are going to create a quick, in-memory SQLite database that we can query with a tool.  So let's just mock something up really quick."
   ]
  },
  {
   "cell_type": "code",
   "execution_count": null,
   "id": "5e393233-2b4b-4218-8aab-a0e879013284",
   "metadata": {},
   "outputs": [],
   "source": [
    "import sqlite3\n",
    "\n",
    "def setup_sqlite():\n",
    "    conn = sqlite3.connect(\":memory:\")\n",
    "    cursor = conn.cursor()\n",
    "\n",
    "    cursor.executescript(\"\"\"\n",
    "    DROP TABLE IF EXISTS orders;\n",
    "    DROP TABLE IF EXISTS customers;\n",
    "\n",
    "    CREATE TABLE customers (\n",
    "        id INTEGER PRIMARY KEY,\n",
    "        name TEXT,\n",
    "        email TEXT\n",
    "    );\n",
    "\n",
    "    CREATE TABLE orders (\n",
    "        id INTEGER PRIMARY KEY,\n",
    "        customer_id INTEGER,\n",
    "        amount REAL,\n",
    "        date TEXT,\n",
    "        FOREIGN KEY(customer_id) REFERENCES customers(id)\n",
    "    );\n",
    "\n",
    "    INSERT INTO customers (id, name, email) VALUES\n",
    "    (1, 'Alice Smith', 'alice@example.com'),\n",
    "    (2, 'Bob Johnson', 'bob@example.com'),\n",
    "    (3, 'Carol Lee', 'carol@example.com'),\n",
    "    (4, 'David Kim', 'david@example.com'),\n",
    "    (5, 'Ella Brown', 'ella@example.com'),\n",
    "    (6, 'Frank White', 'frank@example.com'),\n",
    "    (7, 'Grace Green', 'grace@example.com'),\n",
    "    (8, 'Henry Black', 'henry@example.com'),\n",
    "    (9, 'Ivy Adams', 'ivy@example.com'),\n",
    "    (10, 'Jack Nelson', 'jack@example.com');\n",
    "\n",
    "    INSERT INTO orders (id, customer_id, amount, date) VALUES\n",
    "    (1, 1, 125.50, '2024-01-01'),\n",
    "    (2, 1, 75.00, '2024-02-14'),\n",
    "    (3, 2, 300.00, '2024-02-20'),\n",
    "    (4, 3, 50.25, '2024-03-15'),\n",
    "    (5, 4, 220.00, '2024-03-30'),\n",
    "    (6, 5, 180.75, '2024-04-01'),\n",
    "    (7, 6, 90.00, '2024-04-12'),\n",
    "    (8, 6, 130.00, '2024-04-15'),\n",
    "    (9, 7, 55.55, '2024-04-20'),\n",
    "    (10, 8, 200.00, '2024-04-22'),\n",
    "    (11, 9, 300.00, '2024-04-25'),\n",
    "    (12, 10, 150.00, '2024-04-27'),\n",
    "    (13, 2, 100.00, '2024-04-28'),\n",
    "    (14, 3, 400.00, '2024-04-29'),\n",
    "    (15, 5, 250.00, '2024-04-30');\n",
    "    \"\"\")\n",
    "\n",
    "    conn.commit()\n",
    "    return conn\n"
   ]
  },
  {
   "cell_type": "markdown",
   "id": "ad66d26c-82cf-447e-9e21-51b87df940a3",
   "metadata": {},
   "source": [
    "## Creating the SQL tool\n",
    "\n",
    "This code defines a function `make_sql_tool` that returns a LangChain-compatible tool for executing SQL `SELECT` queries against an in-memory SQLite database.  Inside `make_sql_tool`, a nested function `execute_sql_query` is decorated with `@tool` like before, which allows LangChain agents to invoke it as a callable tool.  The reason `execute_sql_query` is defined inside `make_sql_tool` is to take advantage of a Python closure — this design pattern allows the nested function to access the `conn` database connection passed into the outer function without including it as a parameter in the tool interface.  This keeps the tool signature compatible with LangChain’s expectation of a single input: `str` argument while still enabling safe, dynamic access to the SQLite connection."
   ]
  },
  {
   "cell_type": "code",
   "execution_count": null,
   "id": "cdc3534c-724c-4704-81d2-c8c83e746eb9",
   "metadata": {},
   "outputs": [],
   "source": [
    "def make_sql_tool(conn: sqlite3.Connection):\n",
    "    @tool\n",
    "    def execute_sql_query(input: str) -> str:\n",
    "        \"\"\"\n",
    "        Execute a SQL SELECT query on an in-memory SQLite database with 'customers' and 'orders' tables.\n",
    "        Input should be a valid SQL SELECT statement.\n",
    "        Do not use DROP, DELETE, or INSERT statements.\n",
    "        \"\"\"\n",
    "        try:\n",
    "            if not input.strip().lower().startswith(\"select\"):\n",
    "                return \"Only SELECT statements are allowed.\"\n",
    "\n",
    "            cursor = conn.cursor()\n",
    "            cursor.execute(input)\n",
    "            rows = cursor.fetchall()\n",
    "\n",
    "            if not rows:\n",
    "                return \"No results.\"\n",
    "\n",
    "            col_names = [description[0] for description in cursor.description]\n",
    "            result = \"\\n\".join([str(dict(zip(col_names, row))) for row in rows])\n",
    "            return result\n",
    "        except Exception as e:\n",
    "            return f\"SQL Error: {str(e)}\"\n",
    "\n",
    "    return execute_sql_query"
   ]
  },
  {
   "cell_type": "markdown",
   "id": "fef843aa-2c6a-472d-b6b3-c59e9d9d8b40",
   "metadata": {},
   "source": [
    "## Creating the initial agent\n",
    "\n",
    "We now create our connection to the SQLite database and use that to create the tool with our above function.  This tool is then passed into `initialize_agent` like we saw in the previous activity."
   ]
  },
  {
   "cell_type": "code",
   "execution_count": null,
   "id": "acb21326-b31b-477b-ab7b-b04f27bc9b13",
   "metadata": {},
   "outputs": [],
   "source": [
    "conn = setup_sqlite()\n",
    "sql_tool = make_sql_tool(conn)\n",
    "\n",
    "tools = [sql_tool]\n",
    "\n",
    "llm = ChatBedrockConverse(\n",
    "    model=\"anthropic.claude-3-sonnet-20240229-v1:0\",\n",
    "    temperature=0.0,\n",
    ")\n",
    "\n",
    "agent = initialize_agent(\n",
    "    tools=tools,\n",
    "    llm=llm,\n",
    "    agent=AgentType.ZERO_SHOT_REACT_DESCRIPTION,\n",
    "    verbose=True,\n",
    ")"
   ]
  },
  {
   "cell_type": "code",
   "execution_count": null,
   "id": "cde812fc-310e-4a37-9360-007c64af8190",
   "metadata": {},
   "outputs": [],
   "source": [
    "query = \"Which customer has the highest total spend?\"\n",
    "response = agent.invoke(query)\n",
    "print(response)"
   ]
  },
  {
   "cell_type": "markdown",
   "id": "8f568458-31c6-4469-a2b7-0b6d456dfbfb",
   "metadata": {},
   "source": [
    "## Oops!\n",
    "\n",
    "Well, that was interesting!  What did you notice?  \n",
    "\n",
    "It turns out that the more information you can tell the LLM about the structured database, the better.  So let's do that again, but this time let's create a system prompt that provides the SQL schema to be queried."
   ]
  },
  {
   "cell_type": "code",
   "execution_count": null,
   "id": "6b45c2e3-5393-4cad-991f-f57d409578d7",
   "metadata": {},
   "outputs": [],
   "source": [
    "schema_description = \"\"\"\n",
    "You are a helpful assistant that answers questions about a SQLite database.\n",
    "\n",
    "Database schema:\n",
    "Table: customers\n",
    "- id: INTEGER\n",
    "- name: TEXT\n",
    "- email: TEXT\n",
    "\n",
    "Table: orders\n",
    "- id: INTEGER\n",
    "- customer_id: INTEGER\n",
    "- amount: REAL\n",
    "- date: TEXT\n",
    "(customer_id is a foreign key to customers.id)\n",
    "\n",
    "You may only execute SELECT queries.\n",
    "Do not perform any INSERT, DELETE, or UPDATE operations.\n",
    "\"\"\"\n",
    "\n",
    "prompt = ChatPromptTemplate.from_messages(\n",
    "    [\n",
    "        (\"system\", schema_description),\n",
    "        (\"human\", \"{input}\"),\n",
    "        (\"placeholder\", \"{agent_scratchpad}\"),\n",
    "    ]\n",
    ")"
   ]
  },
  {
   "cell_type": "code",
   "execution_count": null,
   "id": "1c9c3438-713f-4c76-a7f5-3d1754743240",
   "metadata": {},
   "outputs": [],
   "source": [
    "tools = [make_sql_tool(conn)]\n",
    "\n",
    "llm = ChatBedrockConverse(\n",
    "    model=\"anthropic.claude-3-sonnet-20240229-v1:0\",\n",
    "    temperature=0.0,\n",
    ")\n",
    "\n",
    "agent = create_tool_calling_agent(llm=llm, tools=tools, prompt=prompt)\n",
    "agent_executor = AgentExecutor(agent=agent, tools=tools, verbose=True)"
   ]
  },
  {
   "cell_type": "code",
   "execution_count": null,
   "id": "2201029b-8e3a-4e5d-9ff0-987039ef6b46",
   "metadata": {},
   "outputs": [],
   "source": [
    "query = \"Which customer has the highest total spend?\"\n",
    "response = agent_executor.invoke({\"input\": query})\n",
    "print(response)"
   ]
  },
  {
   "cell_type": "code",
   "execution_count": null,
   "id": "c3b5b04d-63d1-40c1-94f4-9f0d9053c038",
   "metadata": {},
   "outputs": [],
   "source": [
    "query = \"List the total amount spent by each customer, sorted from highest to lowest.  Provide your answer in natural language.\"\n",
    "response = agent_executor.invoke({\"input\": query})\n",
    "print(response[\"output\"])"
   ]
  },
  {
   "cell_type": "markdown",
   "id": "362b1375-8117-4258-814f-c07c0d0a8e91",
   "metadata": {},
   "source": [
    "## Concluding thoughts\n",
    "\n",
    "Tools allow you to supercharge your LLM-based applications by providing them with additional functionality.  You can create a tool for just about anything, including the ability to query SQL like we did here.  And then all you have to do is describe what you want the agent to do in natural language.  The LLM was then able to take that natural language query, translate it into SQL, run the query, and get the results back (and even translate them back into natural language if we so wished).  "
   ]
  },
  {
   "cell_type": "code",
   "execution_count": null,
   "id": "670f631b-ad33-40c3-b6cb-f65d9ea68b04",
   "metadata": {},
   "outputs": [],
   "source": []
  }
 ],
 "metadata": {
  "kernelspec": {
   "display_name": "Python 3 (ipykernel)",
   "language": "python",
   "name": "python3"
  },
  "language_info": {
   "codemirror_mode": {
    "name": "ipython",
    "version": 3
   },
   "file_extension": ".py",
   "mimetype": "text/x-python",
   "name": "python",
   "nbconvert_exporter": "python",
   "pygments_lexer": "ipython3",
   "version": "3.12.9"
  }
 },
 "nbformat": 4,
 "nbformat_minor": 5
}
