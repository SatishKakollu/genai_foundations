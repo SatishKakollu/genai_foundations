{
 "cells": [
  {
   "cell_type": "markdown",
   "id": "3e69d7eb-daba-4a3f-a9e8-3bca75e31274",
   "metadata": {},
   "source": [
    "# Module 4, Activity 1: Building a Simple AI Agent\n",
    "\n",
    "Now we are going to start tying everything together in the creation of an AI agent.  To do so, you will see in this module how to create tools and add them to the LLM to form agents."
   ]
  },
  {
   "cell_type": "code",
   "execution_count": 1,
   "id": "76da1105-b4a8-4145-95a7-288cffaca65d",
   "metadata": {},
   "outputs": [
    {
     "name": "stdout",
     "output_type": "stream",
     "text": [
      "Collecting yfinance\n",
      "  Downloading yfinance-0.2.61-py2.py3-none-any.whl.metadata (5.8 kB)\n",
      "Requirement already satisfied: pandas>=1.3.0 in /Users/skkakollu/genai_foundations/env/lib/python3.12/site-packages (from yfinance) (2.2.3)\n",
      "Requirement already satisfied: numpy>=1.16.5 in /Users/skkakollu/genai_foundations/env/lib/python3.12/site-packages (from yfinance) (2.2.5)\n",
      "Requirement already satisfied: requests>=2.31 in /Users/skkakollu/genai_foundations/env/lib/python3.12/site-packages (from yfinance) (2.32.3)\n",
      "Collecting multitasking>=0.0.7 (from yfinance)\n",
      "  Downloading multitasking-0.0.11-py3-none-any.whl.metadata (5.5 kB)\n",
      "Requirement already satisfied: platformdirs>=2.0.0 in /Users/skkakollu/genai_foundations/env/lib/python3.12/site-packages (from yfinance) (4.3.8)\n",
      "Requirement already satisfied: pytz>=2022.5 in /Users/skkakollu/genai_foundations/env/lib/python3.12/site-packages (from yfinance) (2025.2)\n",
      "Collecting frozendict>=2.3.4 (from yfinance)\n",
      "  Downloading frozendict-2.4.6-py312-none-any.whl.metadata (23 kB)\n",
      "Collecting peewee>=3.16.2 (from yfinance)\n",
      "  Downloading peewee-3.18.1.tar.gz (3.0 MB)\n",
      "\u001b[2K     \u001b[90m━━━━━━━━━━━━━━━━━━━━━━━━━━━━━━━━━━━━━━━━\u001b[0m \u001b[32m3.0/3.0 MB\u001b[0m \u001b[31m12.2 MB/s\u001b[0m eta \u001b[36m0:00:00\u001b[0ma \u001b[36m0:00:01\u001b[0m\n",
      "\u001b[?25h  Installing build dependencies ... \u001b[?25ldone\n",
      "\u001b[?25h  Getting requirements to build wheel ... \u001b[?25ldone\n",
      "\u001b[?25h  Preparing metadata (pyproject.toml) ... \u001b[?25ldone\n",
      "\u001b[?25hCollecting beautifulsoup4>=4.11.1 (from yfinance)\n",
      "  Downloading beautifulsoup4-4.13.4-py3-none-any.whl.metadata (3.8 kB)\n",
      "Collecting curl_cffi>=0.7 (from yfinance)\n",
      "  Downloading curl_cffi-0.11.0-cp39-abi3-macosx_11_0_arm64.whl.metadata (14 kB)\n",
      "Collecting protobuf>=3.19.0 (from yfinance)\n",
      "  Downloading protobuf-6.30.2-cp39-abi3-macosx_10_9_universal2.whl.metadata (593 bytes)\n",
      "Collecting websockets>=13.0 (from yfinance)\n",
      "  Downloading websockets-15.0.1-cp312-cp312-macosx_11_0_arm64.whl.metadata (6.8 kB)\n",
      "Collecting soupsieve>1.2 (from beautifulsoup4>=4.11.1->yfinance)\n",
      "  Downloading soupsieve-2.7-py3-none-any.whl.metadata (4.6 kB)\n",
      "Requirement already satisfied: typing-extensions>=4.0.0 in /Users/skkakollu/genai_foundations/env/lib/python3.12/site-packages (from beautifulsoup4>=4.11.1->yfinance) (4.13.2)\n",
      "Collecting cffi>=1.12.0 (from curl_cffi>=0.7->yfinance)\n",
      "  Using cached cffi-1.17.1-cp312-cp312-macosx_11_0_arm64.whl.metadata (1.5 kB)\n",
      "Requirement already satisfied: certifi>=2024.2.2 in /Users/skkakollu/genai_foundations/env/lib/python3.12/site-packages (from curl_cffi>=0.7->yfinance) (2025.4.26)\n",
      "Requirement already satisfied: python-dateutil>=2.8.2 in /Users/skkakollu/genai_foundations/env/lib/python3.12/site-packages (from pandas>=1.3.0->yfinance) (2.9.0.post0)\n",
      "Requirement already satisfied: tzdata>=2022.7 in /Users/skkakollu/genai_foundations/env/lib/python3.12/site-packages (from pandas>=1.3.0->yfinance) (2025.2)\n",
      "Requirement already satisfied: charset-normalizer<4,>=2 in /Users/skkakollu/genai_foundations/env/lib/python3.12/site-packages (from requests>=2.31->yfinance) (3.4.2)\n",
      "Requirement already satisfied: idna<4,>=2.5 in /Users/skkakollu/genai_foundations/env/lib/python3.12/site-packages (from requests>=2.31->yfinance) (3.10)\n",
      "Requirement already satisfied: urllib3<3,>=1.21.1 in /Users/skkakollu/genai_foundations/env/lib/python3.12/site-packages (from requests>=2.31->yfinance) (2.4.0)\n",
      "Collecting pycparser (from cffi>=1.12.0->curl_cffi>=0.7->yfinance)\n",
      "  Using cached pycparser-2.22-py3-none-any.whl.metadata (943 bytes)\n",
      "Requirement already satisfied: six>=1.5 in /Users/skkakollu/genai_foundations/env/lib/python3.12/site-packages (from python-dateutil>=2.8.2->pandas>=1.3.0->yfinance) (1.17.0)\n",
      "Downloading yfinance-0.2.61-py2.py3-none-any.whl (117 kB)\n",
      "Downloading beautifulsoup4-4.13.4-py3-none-any.whl (187 kB)\n",
      "Downloading curl_cffi-0.11.0-cp39-abi3-macosx_11_0_arm64.whl (3.0 MB)\n",
      "\u001b[2K   \u001b[90m━━━━━━━━━━━━━━━━━━━━━━━━━━━━━━━━━━━━━━━━\u001b[0m \u001b[32m3.0/3.0 MB\u001b[0m \u001b[31m9.8 MB/s\u001b[0m eta \u001b[36m0:00:00\u001b[0ma \u001b[36m0:00:01\u001b[0m\n",
      "\u001b[?25hDownloading frozendict-2.4.6-py312-none-any.whl (16 kB)\n",
      "Downloading multitasking-0.0.11-py3-none-any.whl (8.5 kB)\n",
      "Downloading protobuf-6.30.2-cp39-abi3-macosx_10_9_universal2.whl (417 kB)\n",
      "Downloading websockets-15.0.1-cp312-cp312-macosx_11_0_arm64.whl (173 kB)\n",
      "Using cached cffi-1.17.1-cp312-cp312-macosx_11_0_arm64.whl (178 kB)\n",
      "Downloading soupsieve-2.7-py3-none-any.whl (36 kB)\n",
      "Using cached pycparser-2.22-py3-none-any.whl (117 kB)\n",
      "Building wheels for collected packages: peewee\n",
      "  Building wheel for peewee (pyproject.toml) ... \u001b[?25ldone\n",
      "\u001b[?25h  Created wheel for peewee: filename=peewee-3.18.1-cp312-cp312-macosx_11_0_arm64.whl size=272130 sha256=34bee26985d92347dd92adf54025249854d329ea1861456914dcb0b5323d7d35\n",
      "  Stored in directory: /Users/skkakollu/Library/Caches/pip/wheels/1a/57/6a/bb71346381d0d911cd4ce3026f1fa720da76707e4f01cf27dd\n",
      "Successfully built peewee\n",
      "Installing collected packages: peewee, multitasking, websockets, soupsieve, pycparser, protobuf, frozendict, cffi, beautifulsoup4, curl_cffi, yfinance\n",
      "Successfully installed beautifulsoup4-4.13.4 cffi-1.17.1 curl_cffi-0.11.0 frozendict-2.4.6 multitasking-0.0.11 peewee-3.18.1 protobuf-6.30.2 pycparser-2.22 soupsieve-2.7 websockets-15.0.1 yfinance-0.2.61\n",
      "\n",
      "\u001b[1m[\u001b[0m\u001b[34;49mnotice\u001b[0m\u001b[1;39;49m]\u001b[0m\u001b[39;49m A new release of pip is available: \u001b[0m\u001b[31;49m24.2\u001b[0m\u001b[39;49m -> \u001b[0m\u001b[32;49m25.1.1\u001b[0m\n",
      "\u001b[1m[\u001b[0m\u001b[34;49mnotice\u001b[0m\u001b[1;39;49m]\u001b[0m\u001b[39;49m To update, run: \u001b[0m\u001b[32;49mpip install --upgrade pip\u001b[0m\n"
     ]
    }
   ],
   "source": [
    "!pip install yfinance"
   ]
  },
  {
   "cell_type": "code",
   "execution_count": 3,
   "id": "5c7abeea-9394-4a26-aecb-cf056ad5debe",
   "metadata": {},
   "outputs": [],
   "source": [
    "import boto3\n",
    "import csv\n",
    "from datetime import datetime, timedelta\n",
    "import io\n",
    "import matplotlib.pyplot as plt\n",
    "import os\n",
    "import pandas as pd\n",
    "import re\n",
    "import yfinance as yf\n",
    "\n",
    "\n",
    "from langchain.agents import AgentType, AgentExecutor, create_tool_calling_agent, initialize_agent\n",
    "from langchain_aws import ChatBedrockConverse \n",
    "from langchain_core.prompts import ChatPromptTemplate\n",
    "from langchain.memory import ConversationBufferMemory\n",
    "from langchain.tools import tool"
   ]
  },
  {
   "cell_type": "code",
   "execution_count": 4,
   "id": "8841614a-777e-410f-96ac-2bd5f4779fa8",
   "metadata": {},
   "outputs": [],
   "source": [
    "session = boto3.session.Session()\n",
    "region = session.region_name\n",
    "bedrock_runtime = boto3.client(\"bedrock-runtime\", region_name='us-west-2')"
   ]
  },
  {
   "cell_type": "markdown",
   "id": "ab444acd-7661-4f14-9576-68e262289776",
   "metadata": {},
   "source": [
    "## Creating Tools\n",
    "\n",
    "A tool is a function that you create that augments the capabilities of the LLM.  Tools can be anything, including calls to APIs.  In the case below, we are going to use the common `yfinance` Python package to create a simple tool that downloads data from the Yahoo! Finance API.  We specify our tools with the LangChain `@tool` decorator, which takes a normal Python function and turns it into a LangChain tool that can be used by an agent.\n",
    "\n",
    "**Important Note:** It is important to check out the tool description in the docstring of the function.  LangChain will use these tool descriptions as a natural language way to understand what each tool does and then route relevant work to that tool.  So be sure to be specific in your descriptions!"
   ]
  },
  {
   "cell_type": "code",
   "execution_count": 5,
   "id": "61ee3853-0c88-4f5d-955c-58d0b3b1db17",
   "metadata": {},
   "outputs": [],
   "source": [
    "@tool\n",
    "def get_stock_history(input: str) -> str:\n",
    "    \"\"\"\n",
    "    Get historical stock data for a ticker symbol.\n",
    "    Input format: 'TICKER, PERIOD, INTERVAL'. Example: 'BILL, 10d, 1d'.\n",
    "    Period is optional (default '5d'). Interval is optional (default '1d').\n",
    "    \"\"\"\n",
    "    try:\n",
    "        parts = [p.strip() for p in input.split(\",\")]\n",
    "        ticker = parts[0]\n",
    "        period = parts[1] if len(parts) > 1 else \"5d\"\n",
    "        interval = parts[2] if len(parts) > 2 else \"1d\"\n",
    "        data = yf.download(ticker, period=period, interval=interval)\n",
    "        if data.empty:\n",
    "            return f\"No data found for {ticker}.\"\n",
    "        return data.to_string()\n",
    "    except Exception as e:\n",
    "        return f\"Error fetching data: {str(e)}\"\n"
   ]
  },
  {
   "cell_type": "markdown",
   "id": "f8f6828d-7403-4f1f-8a54-de2fe2abea11",
   "metadata": {},
   "source": [
    "Agents can use any number of tools.  We will collect them into a list that then gets passed to the agent."
   ]
  },
  {
   "cell_type": "code",
   "execution_count": null,
   "id": "eebd1332-2fbe-447b-bcc6-a18b33ffbd07",
   "metadata": {},
   "outputs": [],
   "source": [
    "tools = [get_stock_history]"
   ]
  },
  {
   "cell_type": "code",
   "execution_count": 6,
   "id": "47b45153-7e36-48b7-b78d-eea69d728d6c",
   "metadata": {},
   "outputs": [],
   "source": [
    "llm = ChatBedrockConverse(\n",
    "    model=\"anthropic.claude-3-sonnet-20240229-v1:0\",\n",
    "    temperature=0.0,\n",
    ")"
   ]
  },
  {
   "cell_type": "markdown",
   "id": "0739c27c-a91f-490f-8464-3da25cc757b7",
   "metadata": {},
   "source": [
    "## Initializing the basic agent\n",
    "\n",
    "We now have our tools and LLM so it is time to create an agent with them.  We note that there are many different types of basic agent types that LangChain can use.  Descriptions can be found [here](https://python.langchain.com/api_reference/langchain/agents/langchain.agents.agent_types.AgentType.html#langchain.agents.agent_types.AgentType).  Be sure to try a few out and see how they vary."
   ]
  },
  {
   "cell_type": "code",
   "execution_count": 7,
   "id": "5b3a0424-a288-467d-bca0-8f63961a4847",
   "metadata": {},
   "outputs": [
    {
     "ename": "NameError",
     "evalue": "name 'tools' is not defined",
     "output_type": "error",
     "traceback": [
      "\u001b[31m---------------------------------------------------------------------------\u001b[39m",
      "\u001b[31mNameError\u001b[39m                                 Traceback (most recent call last)",
      "\u001b[36mCell\u001b[39m\u001b[36m \u001b[39m\u001b[32mIn[7]\u001b[39m\u001b[32m, line 2\u001b[39m\n\u001b[32m      1\u001b[39m agent = initialize_agent(\n\u001b[32m----> \u001b[39m\u001b[32m2\u001b[39m     tools=\u001b[43mtools\u001b[49m,\n\u001b[32m      3\u001b[39m     llm=llm,\n\u001b[32m      4\u001b[39m     agent=AgentType.ZERO_SHOT_REACT_DESCRIPTION,\n\u001b[32m      5\u001b[39m     verbose=\u001b[38;5;28;01mTrue\u001b[39;00m,\n\u001b[32m      6\u001b[39m )\n",
      "\u001b[31mNameError\u001b[39m: name 'tools' is not defined"
     ]
    }
   ],
   "source": [
    "agent = initialize_agent(\n",
    "    tools=tools,\n",
    "    llm=llm,\n",
    "    agent=AgentType.ZERO_SHOT_REACT_DESCRIPTION,\n",
    "    verbose=True,\n",
    ")"
   ]
  },
  {
   "cell_type": "code",
   "execution_count": null,
   "id": "b7d77fc2-7302-4fbf-9d81-eba4b728180e",
   "metadata": {},
   "outputs": [],
   "source": [
    "response = agent.invoke(\"Show me the stock history for BILL over the past 10 days\")\n",
    "print(response)"
   ]
  },
  {
   "cell_type": "markdown",
   "id": "8056cc42-44b7-44c1-8543-c7b4683948d0",
   "metadata": {},
   "source": [
    "## Adding more tools\n",
    "\n",
    "Let's now create another tool that can plot our data.  So the idea would be that if the user asks to plot the stock price, the first tool to be called would be the `get_stock_history` tool we created above.  Then -- and only if the user requests the information be plotted -- the following tool gets used to create the plot.\n",
    "\n",
    "**Special Note:** You will see that we have included this `|||` delimiter below.  Because the agent type we are using (`ZERO_SHOT_REACT_DESCRIPTION`) takes only a single string, we want to provide guidance to the LLM on how to separate the CSV data from the ticker.  Using a custom delimiter like `|||` is helpful because CSV data often contains commas, line breaks, and quotes — so simple split(',') parsing would break. Claude will usually handle this fine if you describe the format in the docstring."
   ]
  },
  {
   "cell_type": "code",
   "execution_count": null,
   "id": "2e294755-6958-4838-b23b-1aae49fc514d",
   "metadata": {},
   "outputs": [],
   "source": [
    "@tool\n",
    "def plot_stock_data(input: str) -> str:\n",
    "    \"\"\"\n",
    "    Create a line plot of the stock's closing price from CSV data.\n",
    "    Input format: 'CSV_DATA ||| TICKER'. Example: '<csv text> ||| BILL'\n",
    "    Returns the file path of the saved plot image.\n",
    "    \"\"\"\n",
    "    try:\n",
    "        # Separate CSV and ticker\n",
    "        if \"|||\" in input:\n",
    "            csv_data, ticker = input.split(\"|||\", 1)\n",
    "            ticker = ticker.strip()\n",
    "        else:\n",
    "            return \"Input must be in the format: 'CSV_DATA ||| TICKER'\"\n",
    "\n",
    "        df = pd.read_csv(io.StringIO(csv_data.strip()))\n",
    "\n",
    "        if 'Date' in df.columns:\n",
    "            df['Date'] = pd.to_datetime(df['Date'])\n",
    "        else:\n",
    "            return \"No 'Date' column found.\"\n",
    "\n",
    "        if 'Close' not in df.columns:\n",
    "            return \"No 'Close' column found to plot.\"\n",
    "\n",
    "        plt.figure(figsize=(10, 5))\n",
    "        plt.plot(df['Date'], df['Close'], marker='o', linestyle='-')\n",
    "        plt.title(f\"{ticker} Stock Price\")\n",
    "        plt.xlabel(\"Date\")\n",
    "        plt.ylabel(\"Closing Price\")\n",
    "        plt.grid(True)\n",
    "\n",
    "        image_path = f\"{ticker}_plot.png\"\n",
    "        plt.savefig(image_path)\n",
    "        plt.close()\n",
    "        return f\"Plot saved as {image_path}\"\n",
    "    except Exception as e:\n",
    "        return f\"Error generating plot: {str(e)}\"\n"
   ]
  },
  {
   "cell_type": "markdown",
   "id": "c2831947-c382-4982-a631-3bd204e01858",
   "metadata": {},
   "source": [
    "## Agent Executors\n",
    "\n",
    "When we start adding more tools in or the possibility of using multiple tools like this case, we need something to help with the orchestration of that work (as opposed to just directly passing the user's query into the LLM like we did above).  So we introduce the `AgentExecutor`, whose purpose is to act like an air traffic controller, sending the necessary information from one tool to another.\n",
    "\n",
    "You will notice that the prompt has also gotten a bit more complicated.  Let's talk about a few of these different elements:\n",
    "\n",
    "`{chat_history}`: This is the traditional memory like we had before.  It captures the exchanges between the user and the agent and is used to give context to the LLM.\n",
    "\n",
    "`{agent_scratchpad}`: This stores the LLM's reasoning and intermediate tools calls.  It shows what the LLM is currently working on, like thoughts, tools, and results.  This is really important when you start using multiple tools.\n",
    "\n",
    "**Note on memory:** You will likely see a deprecation warning about memory.  This is because LangChain is encouraging people to migrate to LangGraph for checkpointer-based memory.  As previously stated, LangGraph has a pretty steep learning curve and is beyond the scope of this workshop.  So it is OK to ignore the deprecation warning."
   ]
  },
  {
   "cell_type": "code",
   "execution_count": null,
   "id": "f5f3b5f8-5609-4f6a-ba8b-1006c6123c55",
   "metadata": {},
   "outputs": [],
   "source": [
    "tools = [get_stock_history, plot_stock_data]"
   ]
  },
  {
   "cell_type": "code",
   "execution_count": null,
   "id": "6c547006-6e4b-4a6f-a461-8978433d334a",
   "metadata": {},
   "outputs": [],
   "source": [
    "prompt = ChatPromptTemplate.from_messages(\n",
    "    [\n",
    "        (\"system\", \"You are a helpful assistant.\"),\n",
    "        (\"placeholder\", \"{chat_history}\"),\n",
    "        (\"human\", \"{input}\"),\n",
    "        (\"placeholder\", \"{agent_scratchpad}\"),\n",
    "    ]\n",
    ")\n",
    "\n",
    "memory = ConversationBufferMemory(memory_key=\"chat_history\", return_messages=True)"
   ]
  },
  {
   "cell_type": "markdown",
   "id": "f862ea23-9a2a-44ef-b9dc-3c599af45dea",
   "metadata": {},
   "source": [
    "## Agent types\n",
    "\n",
    "`initialize_agent` is a convenience function that simplifies agent creation.  You will note that you need to pass to it an agent type.  There are many different agent types that you can use, which are documented [here](https://python.langchain.com/api_reference/langchain/agents/langchain.agents.agent_types.AgentType.html).  Note that not all agents work with all models (ex: `OPENAI_FUNCTIONS`).  In this case, we are using a zero-shot ReAct (Reasoning + Acting) agent, which is a simple place to start."
   ]
  },
  {
   "cell_type": "code",
   "execution_count": null,
   "id": "1a7ad1b5-1660-48d2-bae8-dcdc91a1273d",
   "metadata": {},
   "outputs": [],
   "source": [
    "agent = initialize_agent(\n",
    "    tools=tools,\n",
    "    llm=llm,\n",
    "    agent=AgentType.ZERO_SHOT_REACT_DESCRIPTION,\n",
    "    verbose=True,\n",
    ")"
   ]
  },
  {
   "cell_type": "code",
   "execution_count": null,
   "id": "15ccf94a-144e-452f-b359-475f86811a12",
   "metadata": {},
   "outputs": [],
   "source": [
    "agent = create_tool_calling_agent(llm=llm, tools=tools, prompt=prompt)\n",
    "agent_executor = AgentExecutor(agent=agent, tools=tools, memory=memory, verbose=True)\n",
    "\n",
    "response = agent_executor.invoke({\"input\": \"Plot the last 15 days of BILL stock data.\"})\n",
    "print(response[\"output\"])"
   ]
  },
  {
   "cell_type": "markdown",
   "id": "d490fc91-da0f-4fc3-b8fa-d060267d78f3",
   "metadata": {},
   "source": [
    "And hopefully you now have a `.png` file that was created in this directory of the stock price!  (You might need to reload the files in the panel on the left.)"
   ]
  },
  {
   "cell_type": "markdown",
   "id": "2640810c-4111-4fd5-86c9-3249fe5b090c",
   "metadata": {},
   "source": [
    "## Concluding Thoughts\n",
    "\n",
    "Agents are all the rage right now in GenAI.  As such, working with agents is a very hot area with a lot of development.  As you read through various bits of documentation on LangChain, you will no doubt come across LangGraph, which is LangChain's new approach to working with agents, including multi-agent workflows.  \n",
    "\n",
    "LangGraph is very powerful and LangChain is moving all of its agentic workflows to this platform.  However, it is still quite new and in a constant state of flux.  Additionally, it has a very steep learning curve and the documentation has not caught up to its development yet.  Because of this, we have stayed away from it for this workshop since it would be very difficult to cover it within a single day's class.  That being said, the interested student should definitely take a look at it since this is where all of LangChain's work is moving towards in the future."
   ]
  },
  {
   "cell_type": "code",
   "execution_count": null,
   "id": "c3b6c43a-f6bd-40ef-94b1-b0c4df218fbc",
   "metadata": {},
   "outputs": [],
   "source": []
  }
 ],
 "metadata": {
  "kernelspec": {
   "display_name": "env",
   "language": "python",
   "name": "python3"
  },
  "language_info": {
   "codemirror_mode": {
    "name": "ipython",
    "version": 3
   },
   "file_extension": ".py",
   "mimetype": "text/x-python",
   "name": "python",
   "nbconvert_exporter": "python",
   "pygments_lexer": "ipython3",
   "version": "3.12.7"
  }
 },
 "nbformat": 4,
 "nbformat_minor": 5
}
